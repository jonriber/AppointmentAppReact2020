{
  "nbformat": 4,
  "nbformat_minor": 0,
  "metadata": {
    "colab": {
      "name": "A Linguagem de Programação Python - Exercícios - WebScrap",
      "provenance": [],
      "collapsed_sections": [],
      "include_colab_link": true
    },
    "kernelspec": {
      "name": "python3",
      "display_name": "Python 3"
    }
  },
  "cells": [
    {
      "cell_type": "markdown",
      "metadata": {
        "id": "view-in-github",
        "colab_type": "text"
      },
      "source": [
        "<a href=\"https://colab.research.google.com/github/jonriber/AppointmentAppReact2020/blob/master/A_Linguagem_de_Programa%C3%A7%C3%A3o_Python_Exerc%C3%ADcios_WebScrap.ipynb\" target=\"_parent\"><img src=\"https://colab.research.google.com/assets/colab-badge.svg\" alt=\"Open In Colab\"/></a>"
      ]
    },
    {
      "cell_type": "markdown",
      "metadata": {
        "id": "byfE8Ht10Jx0",
        "colab_type": "text"
      },
      "source": [
        "# Webscrap for Trading Indicators\n",
        "\n",
        "Indicadores são uma ferramenta importantíssima para traders consistentes fazerem suas análises de mercado. \n",
        "Nesse exercício você terá que implementar o scrap dos indicadores listados. O resultado deve ser materializado em objetos construídos seguindo os principios da POO e as boas práticas de serialização: https://python-guide-pt-br.readthedocs.io/pt_BR/latest/scenarios/serialization.html\n",
        "\n",
        "Exemplo: Objeto que representa um Sinal \n",
        "\n",
        "```\n",
        "class Sinal:\n",
        "  def __init__(self, active:str):\n",
        "    self._active = active\n",
        "  \n",
        "  @property\n",
        "  def active():\n",
        "    return self.active\n",
        "```\n",
        "\n",
        "Crie seus próprios objetos de acordo com a necessidade da estrutura de cada tipo de dado.\n",
        "\n",
        "TODOS OS SCRAPS DESSE EXERCÍCIO SERÃO BASEADOS NOS RECURSOS DO WEBSITE: https://www.myfxbook.com\n",
        "\n",
        "Serão utilizados os indicadores listados abaixo:\n",
        "> Technical Analysis Candlestick Patterns\n",
        "\n",
        "> Volatility\n",
        "\n",
        "> Heat Map Filter\n",
        "\n",
        "> Correlation\n",
        "\n",
        "Você irá implementar as instruções para a obtenção e estruturação dos dados.\n"
      ]
    },
    {
      "cell_type": "markdown",
      "metadata": {
        "id": "oA_PhYwsXq5D",
        "colab_type": "text"
      },
      "source": [
        "General imports"
      ]
    },
    {
      "cell_type": "code",
      "metadata": {
        "id": "Xq1-WdpCXpuq",
        "colab_type": "code",
        "colab": {}
      },
      "source": [
        "import re\n",
        "import logging\n",
        "import requests\n",
        "from bs4 import BeautifulSoup"
      ],
      "execution_count": null,
      "outputs": []
    },
    {
      "cell_type": "markdown",
      "metadata": {
        "id": "3vasadVtk8SP",
        "colab_type": "text"
      },
      "source": [
        "# MyFxBook\n",
        "Myfxbook is an online automated analytical tool for your forex trading account and a social forex community first of its kind.\n",
        "Currently supporting* over 100 brokers, enabling you to track, compare, analyze and share your trading activity.\n",
        "\n",
        "\n",
        "<img src=\"https://static.mfbcdn.net/images/logo.png\" />"
      ]
    },
    {
      "cell_type": "markdown",
      "metadata": {
        "id": "t8r0JDQ_Wece",
        "colab_type": "text"
      },
      "source": [
        "## Technical Analysis Candlestick Patterns\n",
        "\n",
        "https://www.myfxbook.com/forex-market/patterns\n",
        "\n",
        "Patterns are being scanned in real time and presented in the table below (table refreshes automatically every 30 seconds).\n",
        "Please note that some patterns should be confirmed with the price, for example a pattern may be valid only if occurs during an uptrend or a downtrend.\n",
        "\n",
        "<img src=\"https://i.ibb.co/vdQ4gwx/Captura-de-Tela-2020-09-04-a-s-15-27-55.png\"/>\n",
        "\n",
        "\n"
      ]
    },
    {
      "cell_type": "code",
      "metadata": {
        "id": "3KxorE_pWePY",
        "colab_type": "code",
        "colab": {
          "base_uri": "https://localhost:8080/",
          "height": 1000
        },
        "outputId": "10f6e7db-64ad-4435-d237-418e5250ed60"
      },
      "source": [
        "import requests\n",
        "import pandas as pd\n",
        "from bs4 import BeautifulSoup\n",
        "\n",
        "page = requests.get(\"https://www.myfxbook.com/forex-market/patterns\")\n",
        "print(page)\n",
        "\n",
        "#print(page.status.code)\n",
        "requestResult = page.status_code\n",
        "\n",
        "if (requestResult == 200):\n",
        "  pageContent = page.content\n",
        "\n",
        "  ##Creating beautifulSoup instance\n",
        "\n",
        "  soup = BeautifulSoup(pageContent,'html.parser')\n",
        "  print(\"Soup Instance Created!\")\n",
        "  #correlation Table obtained\n",
        "\n",
        "  marketCorrelationTable = soup.find(id=\"indicatorsTable\")\n",
        "\n",
        "  tableLines = marketCorrelationTable.find_all('tr')\n",
        "\n",
        "  #print('TABLE Lines',tableLines)\n",
        "  imgs = [x.select('img') for x in tableLines]\n",
        "\n",
        "  #titles = imgs.find_all('title')\n",
        "  #print('TITLES',titles)\n",
        "  activePatterns = []\n",
        "  #print('IMAGES',imgs)\n",
        "  #print('FIRST',imgs[5][1]['title'])\n",
        "  for x in range(len(imgs)-1):\n",
        "    #print('PRIMEIRA:',x)\n",
        "    \n",
        "    for y in range(len(imgs[x])):\n",
        "      #print(imgs[x][y])\n",
        "        #print(imgs[x][y]['title'])\n",
        "      try:\n",
        "        activePatterns.append(imgs[x][y]['title'])\n",
        "        #print(imgs[x][y]['title'])\n",
        "      except :\n",
        "        #print('Title attribute does not exist.')\n",
        "        activePatterns.append('-')\n",
        "        \n",
        "  #print(activePatterns)\n",
        "        \n",
        "\n",
        "  beldHoldLineAttributes = marketCorrelationTable.find_all(attrs={'pname':'Belt-hold'})\n",
        "  #print('Beld Hold',beldHoldLineAttributes[2].get_text())\n",
        "\n",
        "  #print('Pname attribute',lineAttributes)\n",
        "  #print(tableLines)\n",
        "  #print('FIRST LINE',tableLines[1])\n",
        "  patternTitles = marketCorrelationTable.find_all(class_='underline')\n",
        "  #print('Comprimento de patternTitles:',len(patternTitles))\n",
        "  patterns_names = [pt.get_text() for pt in patternTitles if ((pt.get_text() !='EURUSD')or pt.get_text() !='GBPUSD' or pt.get_text() !='USDCAD' or pt.get_text() !='USDJPY')]\n",
        "\n",
        "  \n",
        "  #firstPattern = patternTitles[0]\n",
        "  patterns_names.remove('EURUSD')\n",
        "  patterns_names.remove('GBPUSD')\n",
        "  patterns_names.remove('USDCAD')\n",
        "  patterns_names.remove('USDJPY')\n",
        "\n",
        "  \n",
        "\n",
        "  #print(type(patterns_names))\n",
        "  #print(patterns_names)\n",
        "  print('NAMES LEN',len(patterns_names))\n",
        "  print('Patterns LEN',len(activePatterns))\n",
        "  bullishPattern=['-' for x in range(len(patterns_names))]\n",
        "  bearishPattern=['-' for x in range(len(patterns_names))]\n",
        "  otherPattern=['-' for x in range(len(patterns_names))]\n",
        "\n",
        "  #analyse patterns\n",
        "\n",
        "  \n",
        "\n",
        "  indicators = pd.DataFrame({\n",
        "      \"patterns Names\": patterns_names,\n",
        "      \"Bullish Pattern\":bullishPattern,\n",
        "      'Bearish Pattern':bearishPattern,\n",
        "      'Bullish/Bearish/Uncertainty':otherPattern\n",
        "  })\n",
        "\n",
        "  print(indicators)\n",
        "\n"
      ],
      "execution_count": 127,
      "outputs": [
        {
          "output_type": "stream",
          "text": [
            "<Response [200]>\n",
            "Soup Instance Created!\n",
            "NAMES LEN 60\n",
            "Patterns LEN 67\n",
            "                        patterns Names  ... Bullish/Bearish/Uncertainty\n",
            "0                       Abandoned Baby  ...                           -\n",
            "1                        Advance Block  ...                           -\n",
            "2                            Belt-hold  ...                           -\n",
            "3                            Breakaway  ...                           -\n",
            "4                     Closing Marubozu  ...                           -\n",
            "5              Concealing Baby Swallow  ...                           -\n",
            "6                        Counterattack  ...                           -\n",
            "7                     Dark Cloud Cover  ...                           -\n",
            "8                                 Doji  ...                           -\n",
            "9                            Doji Star  ...                           -\n",
            "10                      Dragonfly Doji  ...                           -\n",
            "11                   Engulfing Pattern  ...                           -\n",
            "12                   Evening Doji Star  ...                           -\n",
            "13                        Evening Star  ...                           -\n",
            "14                     Gravestone Doji  ...                           -\n",
            "15                              Hammer  ...                           -\n",
            "16                         Hanging Man  ...                           -\n",
            "17                              Harami  ...                           -\n",
            "18                        Harami Cross  ...                           -\n",
            "19                           High-Wave  ...                           -\n",
            "20                             Hikkake  ...                           -\n",
            "21                       Homing Pigeon  ...                           -\n",
            "22               Identical Three Crows  ...                           -\n",
            "23                             In-Neck  ...                           -\n",
            "24                     Inverted Hammer  ...                           -\n",
            "25                             Kicking  ...                           -\n",
            "26                       Ladder Bottom  ...                           -\n",
            "27                    Long Legged Doji  ...                           -\n",
            "28                           Long Line  ...                           -\n",
            "29                            Marubozu  ...                           -\n",
            "30                            Mat Hold  ...                           -\n",
            "31                        Matching Low  ...                           -\n",
            "32                    Modified Hikkake  ...                           -\n",
            "33                   Morning Doji Star  ...                           -\n",
            "34                        Morning Star  ...                           -\n",
            "35                             On-Neck  ...                           -\n",
            "36                            Piercing  ...                           -\n",
            "37                        Rickshaw Man  ...                           -\n",
            "38        Rising-Falling Three Methods  ...                           -\n",
            "39                    Separating Lines  ...                           -\n",
            "40                       Shooting Star  ...                           -\n",
            "41                          Short Line  ...                           -\n",
            "42            Side-by-Side White Lines  ...                           -\n",
            "43                        Spinning Top  ...                           -\n",
            "44                     Stalled Pattern  ...                           -\n",
            "45                      Stick Sandwich  ...                           -\n",
            "46                              Takuri  ...                           -\n",
            "47                          Tasuki Gap  ...                           -\n",
            "48      Three Advancing White Soldiers  ...                           -\n",
            "49                   Three Black Crows  ...                           -\n",
            "50                Three Inside Up-Down  ...                           -\n",
            "51               Three Outside Up-Down  ...                           -\n",
            "52            Three Stars In The South  ...                           -\n",
            "53                   Three-Line Strike  ...                           -\n",
            "54                           Thrusting  ...                           -\n",
            "55                             Tristar  ...                           -\n",
            "56                           Two Crows  ...                           -\n",
            "57                      Unique 3 River  ...                           -\n",
            "58                Upside Gap Two Crows  ...                           -\n",
            "59   Upside-Downside Gap Three Methods  ...                           -\n",
            "\n",
            "[60 rows x 4 columns]\n"
          ],
          "name": "stdout"
        }
      ]
    },
    {
      "cell_type": "markdown",
      "metadata": {
        "id": "XMS7hS1Zrs8D",
        "colab_type": "text"
      },
      "source": [
        "## Volatility \n",
        "\n",
        "https://widgets.myfxbook.com/widgets/market-volatility.html?symbols=2,1,6,5,4,3,10,9,8,7,51,50,15,17,12,11,14,13,28,29&type=0\n",
        "\n",
        "\n",
        "Type in the volatility criteria to find the least and/or most volatile forex currencies in real time. You can switch the search mode to pips or percent.\n",
        "\n",
        "<img src=\"https://i.ibb.co/7N5nq37/Captura-de-Tela-2020-09-04-a-s-16-54-33.png\"/>"
      ]
    },
    {
      "cell_type": "code",
      "metadata": {
        "id": "4jWUtezIr-bV",
        "colab_type": "code",
        "colab": {}
      },
      "source": [
        "# ESCREVA SEU CÓDIGO AQUI"
      ],
      "execution_count": null,
      "outputs": []
    },
    {
      "cell_type": "markdown",
      "metadata": {
        "id": "EJV3gT3WwKIL",
        "colab_type": "text"
      },
      "source": [
        "## Heat Map Filter\n",
        "\n",
        "https://www.myfxbook.com/forex-market/heat-map\n",
        "\n",
        "\n",
        "Viewing in real time the strongest and weakest currencies in each timeframe. You can switch the search mode to pips or percent.\n",
        "\n",
        "<img src=\"https://i.ibb.co/b6wcsCn/Captura-de-Tela-2020-09-04-a-s-17-13-57.png\" alt=\"Captura-de-Tela-2020-09-04-a-s-17-13-57\" border=\"0\">\n",
        "\n",
        "\n"
      ]
    },
    {
      "cell_type": "code",
      "metadata": {
        "id": "jnQSBs5GvP2K",
        "colab_type": "code",
        "colab": {}
      },
      "source": [
        "# ESCREVA SEU CÓDIGO AQUI"
      ],
      "execution_count": null,
      "outputs": []
    },
    {
      "cell_type": "markdown",
      "metadata": {
        "id": "J6QGuHTv054Z",
        "colab_type": "text"
      },
      "source": [
        "## Correlation\n",
        "\n",
        "https://www.myfxbook.com/forex-market/correlation\n",
        "\n",
        "\n",
        "Type in the correlation criteria to find the least and/or most correlated forex currencies in real time.\n",
        "Correlation ranges from -100% to +100%, where -100% represents currencies moving in opposite directions (negative correlation) and +100% represents currencies moving in the same direction.\n",
        "\n",
        "<img src=\"https://i.ibb.co/LJvK7f2/Captura-de-Tela-2020-09-04-a-s-17-34-43.png\" alt=\"Captura-de-Tela-2020-09-04-a-s-17-34-43\" border=\"0\">\n"
      ]
    },
    {
      "cell_type": "code",
      "metadata": {
        "id": "fRS2TvVW08GD",
        "colab_type": "code",
        "colab": {}
      },
      "source": [
        "# ESCREVA SEU CÓDIGO AQUI"
      ],
      "execution_count": null,
      "outputs": []
    }
  ]
}